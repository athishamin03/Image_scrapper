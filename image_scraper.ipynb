{
 "cells": [
  {
   "cell_type": "markdown",
   "id": "d0d242f7",
   "metadata": {},
   "source": [
    "# Image Scrapping"
   ]
  },
  {
   "cell_type": "code",
   "execution_count": 3,
   "id": "e1e8315e",
   "metadata": {},
   "outputs": [],
   "source": [
    "import requests\n",
    "import logging\n",
    "import os\n",
    "from bs4 import BeautifulSoup\n",
    "from urllib.request import urlopen"
   ]
  },
  {
   "cell_type": "code",
   "execution_count": 4,
   "id": "885fe850",
   "metadata": {},
   "outputs": [],
   "source": [
    "save_dir = \"images/\"\n",
    "if not os.path.exists(save_dir):\n",
    "    os.makedirs(save_dir)"
   ]
  },
  {
   "cell_type": "markdown",
   "id": "65302450",
   "metadata": {},
   "source": [
    "https://www.google.com/search?rlz=1C1UEAD_enIN1057IN1057&sxsrf=AB5stBipkrYcgOTFQJban6LYeZY_mPUV5Q:1690690860725&q=elon+musk&tbm=isch&source=lnms&sa=X&ved=2ahUKEwiQtrahyrWAAxU_4DgGHSwpD8oQ0pQJegQICxAB&biw=767&bih=698&dpr=1.25"
   ]
  },
  {
   "cell_type": "code",
   "execution_count": 24,
   "id": "1aa5e612",
   "metadata": {},
   "outputs": [],
   "source": [
    "query = \"Dhoni\"\n",
    "# edit the q= part in the url and assign the above query to q\n",
    "url = f\"https://www.google.com/search?rlz=1C1UEAD_enIN1057IN1057&sxsrf=AB5stBis8B7_bMGKLvKO0Gb82d_AphTc1g:1690691078619&q={query}&tbm=isch&source=lnms&sa=X&ved=2ahUKEwjH0qmJy7WAAxU-xjgGHe-KAMEQ0pQJegQIDBAB&biw=767&bih=698&dpr=1.25\""
   ]
  },
  {
   "cell_type": "code",
   "execution_count": 25,
   "id": "6263e21b",
   "metadata": {},
   "outputs": [],
   "source": [
    "response = requests.get(url)"
   ]
  },
  {
   "cell_type": "code",
   "execution_count": 26,
   "id": "188289a7",
   "metadata": {},
   "outputs": [
    {
     "data": {
      "text/plain": [
       "<Response [200]>"
      ]
     },
     "execution_count": 26,
     "metadata": {},
     "output_type": "execute_result"
    }
   ],
   "source": [
    "response"
   ]
  },
  {
   "cell_type": "code",
   "execution_count": 27,
   "id": "7a28a33b",
   "metadata": {},
   "outputs": [],
   "source": [
    "soup = BeautifulSoup(response.content,\"html.parser\")"
   ]
  },
  {
   "cell_type": "code",
   "execution_count": 28,
   "id": "d57c051a",
   "metadata": {},
   "outputs": [],
   "source": [
    "image_tags = soup.find_all('img')"
   ]
  },
  {
   "cell_type": "code",
   "execution_count": 29,
   "id": "2fde509d",
   "metadata": {},
   "outputs": [
    {
     "data": {
      "text/plain": [
       "[<img alt=\"Google\" class=\"kgJEQe\" src=\"/images/branding/searchlogo/1x/googlelogo_desk_heirloom_color_150x55dp.gif\"/>,\n",
       " <img alt=\"\" class=\"yWs4tf\" src=\"https://encrypted-tbn0.gstatic.com/images?q=tbn:ANd9GcRlQiN6s880xMlcsrHhnfkFvIlhSRZ4rYy3vY-uro86yi_bF3aXqBIxMftW1Q&amp;s\"/>,\n",
       " <img alt=\"\" class=\"yWs4tf\" src=\"https://encrypted-tbn0.gstatic.com/images?q=tbn:ANd9GcSNCaUPTV6Y40UsxVFwfVedIhCZmyXOwbV3P271_6Qsq8u4HnXvIdlxjM5N07M&amp;s\"/>,\n",
       " <img alt=\"\" class=\"yWs4tf\" src=\"https://encrypted-tbn0.gstatic.com/images?q=tbn:ANd9GcTy_KnZLcIzxqalMrt1KU8STG3h-mWavZbdHr11lLoh0Wwku_wEzq4Vk0isSdY&amp;s\"/>,\n",
       " <img alt=\"\" class=\"yWs4tf\" src=\"https://encrypted-tbn0.gstatic.com/images?q=tbn:ANd9GcTYCmQaQDBHif6G_raTPWZxfNlK_Zjj0ly-FpYGXmtpJZISGw_BN9aLnShNMow&amp;s\"/>,\n",
       " <img alt=\"\" class=\"yWs4tf\" src=\"https://encrypted-tbn0.gstatic.com/images?q=tbn:ANd9GcQCU4co43Ppaqk6TR_VKleRANVXN6QXRO0GBQ4Zs33jlS0kdS9TT2skBtUmWA&amp;s\"/>,\n",
       " <img alt=\"\" class=\"yWs4tf\" src=\"https://encrypted-tbn0.gstatic.com/images?q=tbn:ANd9GcRjnExYL4iIbMsXbPBDSxX6CJRXxDqWOBSh4YZ8UYxLUvTAMthfVK9KZB161Q&amp;s\"/>,\n",
       " <img alt=\"\" class=\"yWs4tf\" src=\"https://encrypted-tbn0.gstatic.com/images?q=tbn:ANd9GcQb-Tk9hXydMJN3hh7Zz70QFIPJ__Rqvf7JkLE5KtQwOerBob4Ym3Fqf9sg_kk&amp;s\"/>,\n",
       " <img alt=\"\" class=\"yWs4tf\" src=\"https://encrypted-tbn0.gstatic.com/images?q=tbn:ANd9GcTPeoQcXK2a4fi5aF8jOIXRf2grn_8rVUgV8yeZ6cl_7pTpkUaJZKU_DW1f9_E&amp;s\"/>,\n",
       " <img alt=\"\" class=\"yWs4tf\" src=\"https://encrypted-tbn0.gstatic.com/images?q=tbn:ANd9GcTpnpXUMHc8bxCoDhSiIfq6XsAw-Apzw-UDlSbzpl6kHvGnkpAso52pSGSz9g&amp;s\"/>,\n",
       " <img alt=\"\" class=\"yWs4tf\" src=\"https://encrypted-tbn0.gstatic.com/images?q=tbn:ANd9GcT6A_Nna7R5TMYmBwACmPfw8CCumoAmS6ciMZ_DS3N6Eow7gs1arjwlwNH0rA&amp;s\"/>,\n",
       " <img alt=\"\" class=\"yWs4tf\" src=\"https://encrypted-tbn0.gstatic.com/images?q=tbn:ANd9GcRfVBn08enpYvjCpYiGCxH_PKYb44STDyh2yDrpaegjOMiqlaNmwR0i92UsdQ&amp;s\"/>,\n",
       " <img alt=\"\" class=\"yWs4tf\" src=\"https://encrypted-tbn0.gstatic.com/images?q=tbn:ANd9GcTXaqHEAGQDhTob7UtSnBvkx7IVtb6PmbTjUfHwcP94D_aNgAja_Zm2Vo4yrg&amp;s\"/>,\n",
       " <img alt=\"\" class=\"yWs4tf\" src=\"https://encrypted-tbn0.gstatic.com/images?q=tbn:ANd9GcSHqL-gc9AAcRkfwVIIfZiwSOvmaKV4vKPOjhdbGfaV1Qrzu31SlnBxFWvSRQ&amp;s\"/>,\n",
       " <img alt=\"\" class=\"yWs4tf\" src=\"https://encrypted-tbn0.gstatic.com/images?q=tbn:ANd9GcSGJcJLW-1ksgvJz9Y2flfKFriC1U97a-z3LA07FbhW6ca8XBxE0M6WSwbfTg&amp;s\"/>,\n",
       " <img alt=\"\" class=\"yWs4tf\" src=\"https://encrypted-tbn0.gstatic.com/images?q=tbn:ANd9GcSOP06SNqRU_9WOnJYyOdhuHBxT53WQIhO5B4CR_dcsZ35UbNSoCPBwNLTuYtI&amp;s\"/>,\n",
       " <img alt=\"\" class=\"yWs4tf\" src=\"https://encrypted-tbn0.gstatic.com/images?q=tbn:ANd9GcSO-arzOasabecA9cEn6OlxwDWJL7SyyjuY4URgttFOi7hfI5SSBcT2h5s6Zn4&amp;s\"/>,\n",
       " <img alt=\"\" class=\"yWs4tf\" src=\"https://encrypted-tbn0.gstatic.com/images?q=tbn:ANd9GcS_0zjgzoqeGx4D_kjYWU6TnsS9XpT_nz-c2dLfeZ1_0bksodxtMXjWIfp1JQ&amp;s\"/>,\n",
       " <img alt=\"\" class=\"yWs4tf\" src=\"https://encrypted-tbn0.gstatic.com/images?q=tbn:ANd9GcTiWgW8R57I-mg4jdJJivOO7lGTLBTpDrwgIKdbXTlD1sn2kLqjZGwLALsawg&amp;s\"/>,\n",
       " <img alt=\"\" class=\"yWs4tf\" src=\"https://encrypted-tbn0.gstatic.com/images?q=tbn:ANd9GcTKMXy9AqLwiMM7SZYIDygkJ9as_9aTSEII-GTGvB4c2p9FOS_XqX8ZY_a9b_A&amp;s\"/>,\n",
       " <img alt=\"\" class=\"yWs4tf\" src=\"https://encrypted-tbn0.gstatic.com/images?q=tbn:ANd9GcQBADRnx8j5GI5oNpqafjUsQDNdw0zGtr0OA6kY0eA10L3WuxljlrIYeAR7dA&amp;s\"/>]"
      ]
     },
     "execution_count": 29,
     "metadata": {},
     "output_type": "execute_result"
    }
   ],
   "source": [
    "image_tags"
   ]
  },
  {
   "cell_type": "code",
   "execution_count": 30,
   "id": "653d28cf",
   "metadata": {},
   "outputs": [],
   "source": [
    "# The first link is not for image hence we can delete it\n",
    "del image_tags[0]"
   ]
  },
  {
   "cell_type": "code",
   "execution_count": 31,
   "id": "01cc2600",
   "metadata": {},
   "outputs": [
    {
     "data": {
      "text/plain": [
       "20"
      ]
     },
     "execution_count": 31,
     "metadata": {},
     "output_type": "execute_result"
    }
   ],
   "source": [
    "len(image_tags)"
   ]
  },
  {
   "cell_type": "code",
   "execution_count": 32,
   "id": "5c1445ea",
   "metadata": {},
   "outputs": [],
   "source": [
    "for i in image_tags:\n",
    "    # in the tags we need only src, which contains url \n",
    "    image_url = (i['src'])\n",
    "    \n",
    "    # fetch the content from the url\n",
    "    image_data = requests.get(image_url).content\n",
    "    \n",
    "    # create a path and name for all the images and save it\n",
    "    with open(os.path.join(save_dir, f\"{query}_{image_tags.index(i)}.jpg\"), \"wb\") as f:\n",
    "        f.write(image_data)\n",
    "    "
   ]
  },
  {
   "cell_type": "code",
   "execution_count": null,
   "id": "427bea82",
   "metadata": {},
   "outputs": [],
   "source": []
  }
 ],
 "metadata": {
  "kernelspec": {
   "display_name": "Python 3 (ipykernel)",
   "language": "python",
   "name": "python3"
  },
  "language_info": {
   "codemirror_mode": {
    "name": "ipython",
    "version": 3
   },
   "file_extension": ".py",
   "mimetype": "text/x-python",
   "name": "python",
   "nbconvert_exporter": "python",
   "pygments_lexer": "ipython3",
   "version": "3.11.3"
  }
 },
 "nbformat": 4,
 "nbformat_minor": 5
}
